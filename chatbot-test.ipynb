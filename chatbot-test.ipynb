{
 "cells": [
  {
   "cell_type": "code",
   "execution_count": 1,
   "metadata": {},
   "outputs": [
    {
     "name": "stdout",
     "output_type": "stream",
     "text": [
      "Downloading nltk packages\n",
      "[nltk_data] Downloading package rslp to /home/bruno/nltk_data...\n",
      "[nltk_data]   Package rslp is already up-to-date!\n",
      "[nltk_data] Downloading package stopwords to /home/bruno/nltk_data...\n",
      "[nltk_data]   Package stopwords is already up-to-date!\n"
     ]
    }
   ],
   "source": [
    "import pandas as pd\n",
    "import numpy as np\n",
    "\n",
    "from sklearn.svm import LinearSVC\n",
    "from sklearn.ensemble import AdaBoostClassifier\n",
    "from sklearn.naive_bayes import MultinomialNB, BernoulliNB\n",
    "from sklearn.linear_model import RidgeClassifier\n",
    "from sklearn.preprocessing import LabelEncoder\n",
    "from sklearn.feature_extraction.text import TfidfVectorizer\n",
    "\n",
    "import nltk\n",
    "\n",
    "print('Downloading nltk packages')\n",
    "nltk.download('rslp')\n",
    "nltk.download('stopwords')\n",
    "stemmer = nltk.stem.RSLPStemmer()\n",
    "stopwords = nltk.corpus.stopwords.words('portuguese')\n",
    "\n",
    "data = pd.read_csv('data.csv', delimiter=';', header=0)\n",
    "\n",
    "# clf = LinearSVC()\n",
    "# clf = AdaBoostClassifier()\n",
    "clf = MultinomialNB()\n",
    "# clf = BernoulliNB()\n",
    "# clf = RidgeClassifier()\n",
    "    \n",
    "\n"
   ]
  },
  {
   "cell_type": "code",
   "execution_count": 2,
   "metadata": {
    "collapsed": true
   },
   "outputs": [],
   "source": [
    "def stemmize(text):\n",
    "    words = []\n",
    "    for w in text.split():\n",
    "        words.append(stemmer.stem(w))\n",
    "    return ' '.join(words)\n",
    "\n",
    "def remove_stopwords(text):\n",
    "    words = []\n",
    "    for w in text.split():\n",
    "        if w not in stopwords:\n",
    "            words.append(w)\n",
    "    return ' '.join(words)"
   ]
  },
  {
   "cell_type": "code",
   "execution_count": 3,
   "metadata": {},
   "outputs": [],
   "source": [
    "encoder = LabelEncoder()\n",
    "vectorizer = TfidfVectorizer()\n",
    "data['frase'] = data['frase'].apply(remove_stopwords)\n",
    "data['frase'] = data['frase'].apply(stemmize)\n",
    "X, y = data['frase'], data['intencao']\n",
    "X = vectorizer.fit_transform(data['frase'])"
   ]
  },
  {
   "cell_type": "code",
   "execution_count": 4,
   "metadata": {},
   "outputs": [
    {
     "name": "stdout",
     "output_type": "stream",
     "text": [
      "Classificador com acerto de 77.1%\n"
     ]
    }
   ],
   "source": [
    "from sklearn.model_selection import train_test_split \n",
    "X_train, X_test, y_train, y_test = train_test_split(X, y, test_size=.3, random_state=42)\n",
    "\n",
    "clf.fit(X_train, y_train)\n",
    "score = clf.score(X_test, y_test)\n",
    "print(\"Classificador com acerto de {0:.1f}%\".format(score*100))"
   ]
  },
  {
   "cell_type": "code",
   "execution_count": 5,
   "metadata": {},
   "outputs": [],
   "source": [
    "def predict(text):\n",
    "    text = remove_stopwords(text)\n",
    "    text = stemmize(text)\n",
    "    vect = vectorizer.transform([text])[0]\n",
    "    predictions = [{'intencao': k, 'prob':v} for k,v in zip(clf.classes_, clf.predict_proba(vect)[0])]\n",
    "    return list(sorted(predictions, key=lambda k: k['prob'], reverse=True))"
   ]
  },
  {
   "cell_type": "code",
   "execution_count": null,
   "metadata": {},
   "outputs": [
    {
     "name": "stdout",
     "output_type": "stream",
     "text": [
      "oi\n",
      "{'intencao': 'INFORMACA_FRETE', 'prob': 0.19641446581648553}\n",
      "ola\n",
      "{'intencao': 'SAUDACAO', 'prob': 0.2666159363531293}\n",
      "bom dia\n",
      "{'intencao': 'COMPRAR_PIZZA', 'prob': 0.23700182909676656}\n",
      "boa tarde\n",
      "{'intencao': 'SAUDACAO', 'prob': 0.25955552471124027}\n"
     ]
    }
   ],
   "source": [
    "while True:\n",
    "    text = input()\n",
    "    predicao = predict(text)\n",
    "    print(predicao[0])\n"
   ]
  }
 ],
 "metadata": {
  "kernelspec": {
   "display_name": "Python 3",
   "language": "python",
   "name": "python3"
  },
  "language_info": {
   "codemirror_mode": {
    "name": "ipython",
    "version": 3
   },
   "file_extension": ".py",
   "mimetype": "text/x-python",
   "name": "python",
   "nbconvert_exporter": "python",
   "pygments_lexer": "ipython3",
   "version": "3.6.5"
  }
 },
 "nbformat": 4,
 "nbformat_minor": 2
}
